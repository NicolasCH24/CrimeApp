{
 "cells": [
  {
   "cell_type": "code",
   "execution_count": null,
   "metadata": {},
   "outputs": [],
   "source": [
    "# SQL\n",
    "from sqlalchemy import create_engine, text\n",
    "from contextlib import contextmanager\n",
    "from sqlalchemy.orm import sessionmaker\n",
    "\n",
    "# DATOS\n",
    "import pandas as pd"
   ]
  },
  {
   "cell_type": "code",
   "execution_count": 2,
   "metadata": {},
   "outputs": [],
   "source": [
    "class Datos:\n",
    "    ### SQL & ML\n",
    "    def __init__(self):\n",
    "        self.hostname = \"localhost\"\n",
    "        self.dbname = \"crimewarehouse\"\n",
    "        self.uname = \"root\"\n",
    "        self.pwd = \"admin1234\"\n",
    "\n",
    "    def engine_mysql(self):\n",
    "        #modules[\"cx_Oracle\"] = oracledb\n",
    "        engine = create_engine(\n",
    "            'mysql+pymysql://',\n",
    "            connect_args = {\n",
    "                'user': self.uname,\n",
    "                'password': self.pwd, \n",
    "                'host': self.hostname,\n",
    "                'db':self.dbname},\n",
    "            isolation_level=\"READ COMMITTED\"\n",
    "            )\n",
    "        return engine\n",
    "        \n",
    "    @contextmanager\n",
    "    def db_session(self):\n",
    "        engine = self.engine_mysql()\n",
    "        Session = sessionmaker(bind = engine)\n",
    "        session = Session()\n",
    "        try:\n",
    "            print(\"🟢 Sesión de base de datos establecida...\")\n",
    "            yield session\n",
    "        except Exception as e:\n",
    "            session.rollback() \n",
    "            raise e\n",
    "        finally:\n",
    "            print(\"🔴 Cerrando sesión de base de datos...\")\n",
    "            session.close() \n",
    "    \n",
    "    def get_contextual_crimes(self):\n",
    "        query = text(\"\"\"\n",
    "                SELECT\n",
    "                TIPO_DELITO_DESC\n",
    "                FROM\n",
    "                DIM_TIPO_DELITO\"\"\")\n",
    "        \n",
    "        with self.db_session() as connection:\n",
    "            result = connection.execute(query)\n",
    "            delitos = result.fetchall()\n",
    "            \n",
    "        lista_delitos = pd.DataFrame(delitos)\n",
    "        lista_delitos = lista_delitos['TIPO_DELITO_DESC'].unique()\n",
    "        \n",
    "        return lista_delitos"
   ]
  },
  {
   "cell_type": "code",
   "execution_count": 3,
   "metadata": {},
   "outputs": [],
   "source": [
    "clase_datos = Datos()"
   ]
  },
  {
   "cell_type": "code",
   "execution_count": 4,
   "metadata": {},
   "outputs": [
    {
     "name": "stdout",
     "output_type": "stream",
     "text": [
      "🟢 Sesión de base de datos establecida...\n",
      "🔴 Cerrando sesión de base de datos...\n"
     ]
    }
   ],
   "source": [
    "lista_delitos = clase_datos.get_contextual_crimes()"
   ]
  },
  {
   "cell_type": "code",
   "execution_count": 5,
   "metadata": {},
   "outputs": [
    {
     "data": {
      "text/plain": [
       "array(['Robo', 'Robo automotor', 'Hurto', 'Hurto automotor', 'Amenazas',\n",
       "       'Lesiones Dolosas', 'Homicidios dolosos',\n",
       "       'Lesiones en siniestros viales'], dtype=object)"
      ]
     },
     "execution_count": 5,
     "metadata": {},
     "output_type": "execute_result"
    }
   ],
   "source": [
    "lista_delitos"
   ]
  }
 ],
 "metadata": {
  "kernelspec": {
   "display_name": "BSAS",
   "language": "python",
   "name": "python3"
  },
  "language_info": {
   "codemirror_mode": {
    "name": "ipython",
    "version": 3
   },
   "file_extension": ".py",
   "mimetype": "text/x-python",
   "name": "python",
   "nbconvert_exporter": "python",
   "pygments_lexer": "ipython3",
   "version": "3.11.10"
  }
 },
 "nbformat": 4,
 "nbformat_minor": 2
}
