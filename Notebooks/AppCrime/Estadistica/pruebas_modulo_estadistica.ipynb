{
 "cells": [
  {
   "cell_type": "markdown",
   "id": "0335e28e",
   "metadata": {},
   "source": [
    "## **NOTEBOOK DE PRUEBAS DEL MODULO ESTADISTICA**"
   ]
  },
  {
   "cell_type": "code",
   "execution_count": 1,
   "id": "481ef427",
   "metadata": {},
   "outputs": [
    {
     "name": "stderr",
     "output_type": "stream",
     "text": [
      "2025-04-18 11:08:11.243 WARNING streamlit.runtime.caching.cache_data_api: No runtime found, using MemoryCacheStorageManager\n",
      "2025-04-18 11:08:11.243 WARNING streamlit.runtime.caching.cache_data_api: No runtime found, using MemoryCacheStorageManager\n",
      "2025-04-18 11:08:11.243 WARNING streamlit.runtime.caching.cache_data_api: No runtime found, using MemoryCacheStorageManager\n"
     ]
    }
   ],
   "source": [
    "# SYS PATH\n",
    "import sys\n",
    "sys.path.append(r'C:\\Users\\20391117579\\Dropbox\\CrimeApp\\AppCrimeStreamlit\\Módulos')\n",
    "\n",
    "# CLASE DATOS\n",
    "from clase_datos import Datos, load_models\n",
    "\n",
    "# DATOS\n",
    "import pandas as pd\n",
    "import numpy as np\n",
    "\n",
    "# GRAFICOS\n",
    "import plotly.graph_objects as go\n",
    "import plotly.express as px"
   ]
  },
  {
   "cell_type": "markdown",
   "id": "75d5abea",
   "metadata": {},
   "source": [
    "## **FILTRADO DE DATOS GLOBALES**"
   ]
  },
  {
   "cell_type": "code",
   "execution_count": 2,
   "id": "d95b89a8",
   "metadata": {},
   "outputs": [
    {
     "name": "stderr",
     "output_type": "stream",
     "text": [
      "2025-04-18 11:08:12.504 WARNING streamlit.runtime.scriptrunner_utils.script_run_context: Thread 'MainThread': missing ScriptRunContext! This warning can be ignored when running in bare mode.\n",
      "2025-04-18 11:08:12.938 \n",
      "  \u001b[33m\u001b[1mWarning:\u001b[0m to view this Streamlit app on a browser, run it with the following\n",
      "  command:\n",
      "\n",
      "    streamlit run c:\\Users\\20391117579\\AppData\\Local\\anaconda3\\envs\\BSAS\\Lib\\site-packages\\ipykernel_launcher.py [ARGUMENTS]\n",
      "2025-04-18 11:08:12.939 Thread 'MainThread': missing ScriptRunContext! This warning can be ignored when running in bare mode.\n",
      "2025-04-18 11:08:12.939 Thread 'MainThread': missing ScriptRunContext! This warning can be ignored when running in bare mode.\n",
      "2025-04-18 11:08:13.460 Thread 'Thread-5': missing ScriptRunContext! This warning can be ignored when running in bare mode.\n",
      "2025-04-18 11:08:13.461 Thread 'Thread-5': missing ScriptRunContext! This warning can be ignored when running in bare mode.\n",
      "2025-04-18 11:08:13.561 Thread 'MainThread': missing ScriptRunContext! This warning can be ignored when running in bare mode.\n",
      "2025-04-18 11:08:13.561 Thread 'MainThread': missing ScriptRunContext! This warning can be ignored when running in bare mode.\n"
     ]
    }
   ],
   "source": [
    "kmeans, scaler_kmeans, scaler_d_tree, d_tree_model = load_models()"
   ]
  },
  {
   "cell_type": "code",
   "execution_count": 3,
   "id": "deb4e9f7",
   "metadata": {},
   "outputs": [],
   "source": [
    "clase_datos = Datos(kmeans=kmeans, scaler_kmeans= scaler_kmeans, d_tree_model=d_tree_model, scaler_d_tree= scaler_d_tree)"
   ]
  },
  {
   "cell_type": "code",
   "execution_count": 130,
   "id": "ded26703",
   "metadata": {},
   "outputs": [],
   "source": [
    "df_data = clase_datos.get_all_data()"
   ]
  },
  {
   "cell_type": "code",
   "execution_count": 5,
   "id": "7f272d34",
   "metadata": {},
   "outputs": [],
   "source": [
    "comunas_barrios = {\n",
    "    'COMUNA 1': [\n",
    "        'RETIRO', 'SAN NICOLAS', 'PUERTO MADERO', 'SAN TELMO',\n",
    "        'MONSERRAT', 'CONSTITUCION'\n",
    "    ],\n",
    "    'COMUNA 2': ['RECOLETA'],\n",
    "    'COMUNA 3': ['BALVANERA', 'SAN CRISTOBAL'],\n",
    "    'COMUNA 4': ['LA BOCA', 'BARRACAS', 'PARQUE PATRICIOS', 'NUEVA POMPEYA'],\n",
    "    'COMUNA 5': ['ALMAGRO', 'BOEDO'],\n",
    "    'COMUNA 6': ['CABALLITO'],\n",
    "    'COMUNA 7': ['FLORES', 'PARQUE CHACABUCO'],\n",
    "    'COMUNA 8': ['VILLA LUGANO', 'VILLA RIACHUELO', 'VILLA SOLDATI'],\n",
    "    'COMUNA 9': ['LINIERS', 'MATADEROS', 'PARQUE AVELLANEDA'],\n",
    "    'COMUNA 10': ['VILLA LURO', 'MONTE CASTRO', 'VELEZ SARSFIELD', 'FLORESTA', 'VERSALLES', 'VILLA REAL'],\n",
    "    'COMUNA 11': ['VILLA DEVOTO', 'VILLA DEL PARQUE', 'VILLA SANTA RITA'],\n",
    "    'COMUNA 12': ['VILLA PUEYRREDON', 'VILLA URQUIZA', 'SAAVEDRA', 'COGHLAN'],\n",
    "    'COMUNA 13': ['BELGRANO', 'COLEGIALES', 'NUÑEZ'],\n",
    "    'COMUNA 14': ['PALERMO'],\n",
    "    'COMUNA 15': ['VILLA CRESPO', 'CHACARITA', 'AGRONOMIA', 'VILLA ORTUZAR', 'PARQUE CHAS', 'LA PATERNAL']\n",
    "}"
   ]
  },
  {
   "cell_type": "code",
   "execution_count": 6,
   "id": "5db81dc7",
   "metadata": {},
   "outputs": [],
   "source": [
    "año = None\n",
    "mes = None\n",
    "comuna = None\n",
    "barrio = None\n",
    "delito = None\n",
    "franja_horaria = None"
   ]
  },
  {
   "cell_type": "code",
   "execution_count": 131,
   "id": "59dda157",
   "metadata": {},
   "outputs": [],
   "source": [
    "def get_filtered_df(df_data, año, mes, comuna, barrio, delito, franja_horaria):\n",
    "    if franja_horaria is not None:\n",
    "        hora_min = np.min(franja_horaria)\n",
    "        hora_max = np.max(franja_horaria) + 1\n",
    "        horarios = tuple(np.arange(start=hora_min, stop=hora_max, step=1))\n",
    "        if df_data is not None and df_data.empty == False:\n",
    "            df_filtered = df_data\n",
    "            print(\"Fuente de datos correcta.\")\n",
    "            dict_filtro = {'AÑO':año, 'MES':mes, 'COMUNA':comuna, 'BARRIO':barrio, 'DELITO':delito, 'FRANJA_HORARIA':horarios}\n",
    "            clean_dict = {k: dict_filtro[k] for k in dict_filtro if not pd.isna(dict_filtro[k])}\n",
    "        else:\n",
    "            print(\"Fuente de datos vacía o inexistente.\")\n",
    "\n",
    "        for i in clean_dict.items():\n",
    "            if i[0] == 'AÑO':\n",
    "                df_filtered = df_filtered[df_filtered['AÑO'] == i[1]]\n",
    "            elif i[0] == 'MES':\n",
    "                df_filtered = df_filtered[df_filtered['MES_NUM'] == i[1]]\n",
    "            elif i[0] == 'COMUNA':\n",
    "                df_filtered = df_filtered[df_filtered['COMUNA_DESC'] == i[1]]\n",
    "            elif i[0] == 'BARRIO':\n",
    "                df_filtered = df_filtered[df_filtered['BARRIO_DESC'] == i[1]]\n",
    "            elif i[0] == 'DELITO':\n",
    "                df_filtered = df_filtered[df_filtered['TIPO_DELITO_DESC'] == i[1]]\n",
    "            elif i[0] == 'FRANJA_HORARIA':\n",
    "                df_filtered = df_filtered[df_filtered['FRANJA_HORARIA'].isin(i[1])]\n",
    "\n",
    "        return df_filtered\n",
    "    else:\n",
    "        if df_data is not None and df_data.empty == False:\n",
    "            df_filtered = df_data\n",
    "            print(\"Fuente de datos correcta.\")\n",
    "            dict_filtro = {'AÑO':año, 'MES':mes, 'COMUNA':comuna, 'BARRIO':barrio, 'DELITO':delito, 'FRANJA_HORARIA':franja_horaria}\n",
    "            clean_dict = {k: dict_filtro[k] for k in dict_filtro if not pd.isna(dict_filtro[k])}\n",
    "        else:\n",
    "            print(\"Fuente de datos vacía o inexistente.\")\n",
    "\n",
    "        for i in clean_dict.items():\n",
    "            if i[0] == 'AÑO':\n",
    "                df_filtered = df_filtered[df_filtered['AÑO'] == i[1]]\n",
    "            elif i[0] == 'MES':\n",
    "                df_filtered = df_filtered[df_filtered['MES_NUM'] == i[1]]\n",
    "            elif i[0] == 'COMUNA':\n",
    "                df_filtered = df_filtered[df_filtered['COMUNA_DESC'] == i[1]]\n",
    "            elif i[0] == 'BARRIO':\n",
    "                df_filtered = df_filtered[df_filtered['BARRIO_DESC'] == i[1]]\n",
    "            elif i[0] == 'DELITO':\n",
    "                df_filtered = df_filtered[df_filtered['TIPO_DELITO_DESC'] == i[1]]\n",
    "            elif i[0] == 'FRANJA_HORARIA':\n",
    "                df_filtered = df_filtered[df_filtered['FRANJA_HORARIA'].isin(i[1])]\n",
    "\n",
    "        return df_filtered"
   ]
  },
  {
   "cell_type": "code",
   "execution_count": 132,
   "id": "f6ecbcc4",
   "metadata": {},
   "outputs": [
    {
     "name": "stdout",
     "output_type": "stream",
     "text": [
      "Fuente de datos correcta.\n"
     ]
    }
   ],
   "source": [
    "df_filtered = get_filtered_df(df_data, año, mes, comuna, barrio, delito, franja_horaria)"
   ]
  },
  {
   "cell_type": "code",
   "execution_count": 133,
   "id": "18638285",
   "metadata": {},
   "outputs": [
    {
     "data": {
      "text/html": [
       "<div>\n",
       "<style scoped>\n",
       "    .dataframe tbody tr th:only-of-type {\n",
       "        vertical-align: middle;\n",
       "    }\n",
       "\n",
       "    .dataframe tbody tr th {\n",
       "        vertical-align: top;\n",
       "    }\n",
       "\n",
       "    .dataframe thead th {\n",
       "        text-align: right;\n",
       "    }\n",
       "</style>\n",
       "<table border=\"1\" class=\"dataframe\">\n",
       "  <thead>\n",
       "    <tr style=\"text-align: right;\">\n",
       "      <th></th>\n",
       "      <th>FECHA</th>\n",
       "      <th>FRANJA_HORARIA</th>\n",
       "      <th>CONTACTO_ID</th>\n",
       "      <th>COMUNA_DESC</th>\n",
       "      <th>BARRIO_DESC</th>\n",
       "      <th>TIPO_DELITO_DESC</th>\n",
       "      <th>AÑO</th>\n",
       "      <th>MES_NUM</th>\n",
       "      <th>MES</th>\n",
       "    </tr>\n",
       "  </thead>\n",
       "  <tbody>\n",
       "    <tr>\n",
       "      <th>0</th>\n",
       "      <td>2016-01-31</td>\n",
       "      <td>3</td>\n",
       "      <td>120</td>\n",
       "      <td>COMUNA 1</td>\n",
       "      <td>CONSTITUCION</td>\n",
       "      <td>Robo</td>\n",
       "      <td>2016</td>\n",
       "      <td>1</td>\n",
       "      <td>Enero</td>\n",
       "    </tr>\n",
       "    <tr>\n",
       "      <th>1</th>\n",
       "      <td>2016-01-31</td>\n",
       "      <td>14</td>\n",
       "      <td>122</td>\n",
       "      <td>COMUNA 1</td>\n",
       "      <td>CONSTITUCION</td>\n",
       "      <td>Robo</td>\n",
       "      <td>2016</td>\n",
       "      <td>1</td>\n",
       "      <td>Enero</td>\n",
       "    </tr>\n",
       "    <tr>\n",
       "      <th>2</th>\n",
       "      <td>2016-01-31</td>\n",
       "      <td>16</td>\n",
       "      <td>124</td>\n",
       "      <td>COMUNA 1</td>\n",
       "      <td>MONSERRAT</td>\n",
       "      <td>Robo</td>\n",
       "      <td>2016</td>\n",
       "      <td>1</td>\n",
       "      <td>Enero</td>\n",
       "    </tr>\n",
       "    <tr>\n",
       "      <th>3</th>\n",
       "      <td>2016-01-31</td>\n",
       "      <td>0</td>\n",
       "      <td>125</td>\n",
       "      <td>COMUNA 1</td>\n",
       "      <td>CONSTITUCION</td>\n",
       "      <td>Robo</td>\n",
       "      <td>2016</td>\n",
       "      <td>1</td>\n",
       "      <td>Enero</td>\n",
       "    </tr>\n",
       "    <tr>\n",
       "      <th>4</th>\n",
       "      <td>2016-01-31</td>\n",
       "      <td>6</td>\n",
       "      <td>126</td>\n",
       "      <td>COMUNA 1</td>\n",
       "      <td>CONSTITUCION</td>\n",
       "      <td>Robo</td>\n",
       "      <td>2016</td>\n",
       "      <td>1</td>\n",
       "      <td>Enero</td>\n",
       "    </tr>\n",
       "    <tr>\n",
       "      <th>...</th>\n",
       "      <td>...</td>\n",
       "      <td>...</td>\n",
       "      <td>...</td>\n",
       "      <td>...</td>\n",
       "      <td>...</td>\n",
       "      <td>...</td>\n",
       "      <td>...</td>\n",
       "      <td>...</td>\n",
       "      <td>...</td>\n",
       "    </tr>\n",
       "    <tr>\n",
       "      <th>1066646</th>\n",
       "      <td>2023-12-01</td>\n",
       "      <td>9</td>\n",
       "      <td>1066563</td>\n",
       "      <td>COMUNA 15</td>\n",
       "      <td>VILLA CRESPO</td>\n",
       "      <td>Robo</td>\n",
       "      <td>2023</td>\n",
       "      <td>12</td>\n",
       "      <td>Diciembre</td>\n",
       "    </tr>\n",
       "    <tr>\n",
       "      <th>1066647</th>\n",
       "      <td>2023-12-01</td>\n",
       "      <td>3</td>\n",
       "      <td>1066564</td>\n",
       "      <td>COMUNA 15</td>\n",
       "      <td>VILLA CRESPO</td>\n",
       "      <td>Hurto</td>\n",
       "      <td>2023</td>\n",
       "      <td>12</td>\n",
       "      <td>Diciembre</td>\n",
       "    </tr>\n",
       "    <tr>\n",
       "      <th>1066648</th>\n",
       "      <td>2023-12-01</td>\n",
       "      <td>21</td>\n",
       "      <td>1066565</td>\n",
       "      <td>COMUNA 15</td>\n",
       "      <td>VILLA CRESPO</td>\n",
       "      <td>Hurto</td>\n",
       "      <td>2023</td>\n",
       "      <td>12</td>\n",
       "      <td>Diciembre</td>\n",
       "    </tr>\n",
       "    <tr>\n",
       "      <th>1066649</th>\n",
       "      <td>2023-12-01</td>\n",
       "      <td>8</td>\n",
       "      <td>1066566</td>\n",
       "      <td>COMUNA 15</td>\n",
       "      <td>VILLA CRESPO</td>\n",
       "      <td>Hurto</td>\n",
       "      <td>2023</td>\n",
       "      <td>12</td>\n",
       "      <td>Diciembre</td>\n",
       "    </tr>\n",
       "    <tr>\n",
       "      <th>1066650</th>\n",
       "      <td>2023-12-01</td>\n",
       "      <td>12</td>\n",
       "      <td>1066643</td>\n",
       "      <td>COMUNA 15</td>\n",
       "      <td>PARQUE CHAS</td>\n",
       "      <td>Hurto</td>\n",
       "      <td>2023</td>\n",
       "      <td>12</td>\n",
       "      <td>Diciembre</td>\n",
       "    </tr>\n",
       "  </tbody>\n",
       "</table>\n",
       "<p>1066651 rows × 9 columns</p>\n",
       "</div>"
      ],
      "text/plain": [
       "             FECHA  FRANJA_HORARIA  CONTACTO_ID COMUNA_DESC   BARRIO_DESC  \\\n",
       "0       2016-01-31               3          120    COMUNA 1  CONSTITUCION   \n",
       "1       2016-01-31              14          122    COMUNA 1  CONSTITUCION   \n",
       "2       2016-01-31              16          124    COMUNA 1     MONSERRAT   \n",
       "3       2016-01-31               0          125    COMUNA 1  CONSTITUCION   \n",
       "4       2016-01-31               6          126    COMUNA 1  CONSTITUCION   \n",
       "...            ...             ...          ...         ...           ...   \n",
       "1066646 2023-12-01               9      1066563   COMUNA 15  VILLA CRESPO   \n",
       "1066647 2023-12-01               3      1066564   COMUNA 15  VILLA CRESPO   \n",
       "1066648 2023-12-01              21      1066565   COMUNA 15  VILLA CRESPO   \n",
       "1066649 2023-12-01               8      1066566   COMUNA 15  VILLA CRESPO   \n",
       "1066650 2023-12-01              12      1066643   COMUNA 15   PARQUE CHAS   \n",
       "\n",
       "        TIPO_DELITO_DESC   AÑO  MES_NUM        MES  \n",
       "0                   Robo  2016        1      Enero  \n",
       "1                   Robo  2016        1      Enero  \n",
       "2                   Robo  2016        1      Enero  \n",
       "3                   Robo  2016        1      Enero  \n",
       "4                   Robo  2016        1      Enero  \n",
       "...                  ...   ...      ...        ...  \n",
       "1066646             Robo  2023       12  Diciembre  \n",
       "1066647            Hurto  2023       12  Diciembre  \n",
       "1066648            Hurto  2023       12  Diciembre  \n",
       "1066649            Hurto  2023       12  Diciembre  \n",
       "1066650            Hurto  2023       12  Diciembre  \n",
       "\n",
       "[1066651 rows x 9 columns]"
      ]
     },
     "execution_count": 133,
     "metadata": {},
     "output_type": "execute_result"
    }
   ],
   "source": [
    "df_filtered"
   ]
  },
  {
   "cell_type": "markdown",
   "id": "bbe82fc8",
   "metadata": {},
   "source": [
    "## **KPIS**"
   ]
  },
  {
   "cell_type": "code",
   "execution_count": 85,
   "id": "88d3be6d",
   "metadata": {},
   "outputs": [],
   "source": [
    "# CANTIDAD DE HECHOS\n",
    "comuna_top = df_filtered.groupby('COMUNA_DESC')['CONTACTO_ID'].count().sort_values(ascending=False).head(1)"
   ]
  },
  {
   "cell_type": "code",
   "execution_count": 95,
   "id": "624051af",
   "metadata": {},
   "outputs": [
    {
     "data": {
      "text/plain": [
       "array([449], dtype=int64)"
      ]
     },
     "execution_count": 95,
     "metadata": {},
     "output_type": "execute_result"
    }
   ],
   "source": [
    "comuna_top.values"
   ]
  },
  {
   "cell_type": "code",
   "execution_count": null,
   "id": "48ea648b",
   "metadata": {},
   "outputs": [],
   "source": [
    "fig = go.Figure()\n",
    "\n",
    "fig.add_trace(go.Indicator(\n",
    "    mode=\"number\",\n",
    "    value=comuna_top.values[0],\n",
    "    number={\n",
    "        'font': {\n",
    "            'color': '#101e37',\n",
    "            'size': 48,  # Tamaño sugerido para mejor legibilidad\n",
    "            'family': \"Sans serif\"\n",
    "        }\n",
    "    }\n",
    "))\n",
    "\n",
    "fig.update_layout(\n",
    "    title={\n",
    "        'text': f\"Comuna Top en hechos - {comuna_top.index[0]}\",\n",
    "        'font': {\n",
    "            'size': 20,\n",
    "            'color': '#101e37',\n",
    "            'family': \"Sans serif\"\n",
    "        },\n",
    "        'x': 0.5  # Centrado\n",
    "    },\n",
    "    width=950,\n",
    "    height=120,\n",
    "    autosize=False,\n",
    "    margin=dict(l=0, r=0, b=0, t=30, pad=4),\n",
    "    paper_bgcolor=\"#d1d8e0\",\n",
    "    plot_bgcolor=\"#d1d8e0\",\n",
    "    font=dict(\n",
    "        color=\"#101e37\",\n",
    "        family=\"Sans serif\"\n",
    "    )\n",
    ")\n",
    "\n",
    "fig.show()"
   ]
  },
  {
   "cell_type": "markdown",
   "id": "70cfd4b2",
   "metadata": {},
   "source": [
    "## **LINES**"
   ]
  },
  {
   "cell_type": "code",
   "execution_count": null,
   "id": "2fbf97e0",
   "metadata": {},
   "outputs": [],
   "source": [
    "\"\"\"# Asegurate de que FECHA esté en formato datetime\n",
    "df_filtered['FECHA'] = pd.to_datetime(df_filtered['FECHA'])\n",
    "df_filtered['AÑO'] = df_filtered['FECHA'].dt.year\n",
    "\n",
    "# Agrupar por año y tipo de delito\n",
    "df_grouped = df_filtered.groupby(['AÑO', 'TIPO_DELITO_DESC']).size().unstack(fill_value=0)\n",
    "\n",
    "# Asegurar que los años estén ordenados correctamente\n",
    "years = np.arange(df_filtered['AÑO'].min(), df_filtered['AÑO'].max() + 1)\n",
    "df_grouped = df_grouped.reindex(years, fill_value=0)\n",
    "\n",
    "# Preparar datos\n",
    "labels = df_grouped.columns.tolist()\n",
    "colors = ['rgb(67,67,67)', 'rgb(115,115,115)', 'rgb(49,130,189)', 'rgb(189,189,189)']\n",
    "mode_size = [8] * len(labels)\n",
    "line_size = [2, 2, 4, 2]\n",
    "x_data = np.vstack((years,) * len(labels))\n",
    "y_data = df_grouped.T.values\n",
    "\n",
    "# Crear gráfico\n",
    "fig = go.Figure()\n",
    "\n",
    "for i in range(len(labels)):\n",
    "    print(labels[i])\n",
    "    fig.add_trace(go.Scatter(x=x_data[i], y=y_data[i], mode='lines',\n",
    "        name=labels[i],\n",
    "        line=dict(color=colors[i % len(colors)], width=line_size[i % len(line_size)]),\n",
    "        connectgaps=True))\n",
    "\n",
    "    # Endpoints\n",
    "    fig.add_trace(go.Scatter(\n",
    "        x=[x_data[i][0], x_data[i][-1]],\n",
    "        y=[y_data[i][0], y_data[i][-1]],\n",
    "        mode='markers',\n",
    "        marker=dict(color=colors[i % len(colors)], size=mode_size[i])\n",
    "    ))\n",
    "\n",
    "# Layout\n",
    "fig.update_layout(\n",
    "    #title='Evolución de Tipos de Delito por Año',\n",
    "    height= 750,\n",
    "    width = 1000,\n",
    "    xaxis=dict(\n",
    "        showline=True,\n",
    "        showgrid=False,\n",
    "        showticklabels=True,\n",
    "        linecolor='rgb(204, 204, 204)',\n",
    "        linewidth=2,\n",
    "        ticks='outside',\n",
    "        tickfont=dict(family='Arial', size=12, color='rgb(82, 82, 82)'),\n",
    "    ),\n",
    "    yaxis=dict(\n",
    "        showgrid=False,\n",
    "        zeroline=False,\n",
    "        showline=False,\n",
    "        showticklabels=False,\n",
    "    ),\n",
    "    autosize=False,\n",
    "    margin=dict(l=100, r=20, t=130),\n",
    "    showlegend=False,\n",
    "    plot_bgcolor='white'\n",
    ")\n",
    "\n",
    "# Anotaciones\n",
    "colors = ['rgb(67,67,67)', 'rgb(115,115,115)', 'rgb(49,130,189)', 'rgb(189,189,189)']\n",
    "colors = colors * (len(labels) // len(colors) + 1)  # Repetimos colores para cubrir todos los labels\n",
    "\n",
    "# Anotaciones\n",
    "annotations = []\n",
    "for y_trace, label, color in zip(y_data, labels, colors):\n",
    "    annotations.append(dict(xref='paper', x=0.05, y=y_trace[0],\n",
    "                            xanchor='right', yanchor='middle',\n",
    "                            text=label + ' {}'.format(y_trace[0]),\n",
    "                            font=dict(family='Arial', size=16, color=color),\n",
    "                            showarrow=False))\n",
    "    \n",
    "    annotations.append(dict(xref='paper', x=0.95, y=y_trace[-1],\n",
    "                            xanchor='left', yanchor='middle',\n",
    "                            text='{}'.format(y_trace[-1]),\n",
    "                            font=dict(family='Arial', size=16, color=color),\n",
    "                            showarrow=False))\n",
    "\n",
    "# Título y fuente (solo una vez)\n",
    "annotations.append(dict(xref='paper', yref='paper', x=0.0, y=1.05,\n",
    "                        xanchor='left', yanchor='bottom',\n",
    "                        text='Evolución de Tipos de Delito por Año',\n",
    "                        font=dict(family='Arial', size=30, color='rgb(37,37,37)'),\n",
    "                        showarrow=False))\n",
    "\n",
    "annotations.append(dict(xref='paper', yref='paper', x=0.5, y=-0.1,\n",
    "                        xanchor='center', yanchor='top',\n",
    "                        text='Fuente: Datos del Observatorio del Delito',\n",
    "                        font=dict(family='Arial', size=12, color='rgb(150,150,150)'),\n",
    "                        showarrow=False))\n",
    "\n",
    "fig.update_layout(annotations=annotations)\n",
    "\n",
    "fig.show()\n",
    "\"\"\""
   ]
  },
  {
   "cell_type": "code",
   "execution_count": 111,
   "id": "014dda24",
   "metadata": {},
   "outputs": [],
   "source": [
    "df_filtered['PERIODO'] = df_filtered['FECHA'].dt.to_period('M')  # Esto da YYYY-MM\n",
    "df_grouped = df_filtered.groupby('PERIODO')['CONTACTO_ID'].count().reset_index()\n"
   ]
  },
  {
   "cell_type": "code",
   "execution_count": 112,
   "id": "48ef632d",
   "metadata": {},
   "outputs": [],
   "source": [
    "df_grouped['PERIODO'] = df_grouped['PERIODO'].dt.to_timestamp()\n"
   ]
  },
  {
   "cell_type": "code",
   "execution_count": 114,
   "id": "aacb3eb3",
   "metadata": {},
   "outputs": [
    {
     "data": {
      "application/vnd.plotly.v1+json": {
       "config": {
        "plotlyServerURL": "https://plot.ly"
       },
       "data": [
        {
         "hovertemplate": "%{x|%Y-%m} <br>Cantidad: %{y}<extra></extra>",
         "line": {
          "color": "#336acc",
          "width": 3
         },
         "marker": {
          "color": "#336acc",
          "size": 6
         },
         "mode": "lines+markers",
         "name": "Cantidad de contactos",
         "type": "scatter",
         "x": [
          "2016-01-01T00:00:00",
          "2016-02-01T00:00:00",
          "2016-03-01T00:00:00",
          "2016-04-01T00:00:00",
          "2016-05-01T00:00:00",
          "2016-06-01T00:00:00",
          "2016-07-01T00:00:00",
          "2016-08-01T00:00:00",
          "2016-09-01T00:00:00",
          "2016-10-01T00:00:00",
          "2016-11-01T00:00:00",
          "2016-12-01T00:00:00",
          "2017-01-01T00:00:00",
          "2017-02-01T00:00:00",
          "2017-03-01T00:00:00",
          "2017-04-01T00:00:00",
          "2017-05-01T00:00:00",
          "2017-06-01T00:00:00",
          "2017-07-01T00:00:00",
          "2017-08-01T00:00:00",
          "2017-09-01T00:00:00",
          "2017-10-01T00:00:00",
          "2017-11-01T00:00:00",
          "2017-12-01T00:00:00",
          "2018-01-01T00:00:00",
          "2018-02-01T00:00:00",
          "2018-03-01T00:00:00",
          "2018-04-01T00:00:00",
          "2018-05-01T00:00:00",
          "2018-06-01T00:00:00",
          "2018-07-01T00:00:00",
          "2018-08-01T00:00:00",
          "2018-09-01T00:00:00",
          "2018-10-01T00:00:00",
          "2018-11-01T00:00:00",
          "2018-12-01T00:00:00",
          "2019-01-01T00:00:00",
          "2019-02-01T00:00:00",
          "2019-03-01T00:00:00",
          "2019-04-01T00:00:00",
          "2019-05-01T00:00:00",
          "2019-06-01T00:00:00",
          "2019-07-01T00:00:00",
          "2019-08-01T00:00:00",
          "2019-09-01T00:00:00",
          "2019-10-01T00:00:00",
          "2019-11-01T00:00:00",
          "2019-12-01T00:00:00",
          "2020-01-01T00:00:00",
          "2020-02-01T00:00:00",
          "2020-03-01T00:00:00",
          "2020-04-01T00:00:00",
          "2020-05-01T00:00:00",
          "2020-06-01T00:00:00",
          "2020-07-01T00:00:00",
          "2020-08-01T00:00:00",
          "2020-09-01T00:00:00",
          "2020-10-01T00:00:00",
          "2020-11-01T00:00:00",
          "2020-12-01T00:00:00",
          "2021-01-01T00:00:00",
          "2021-02-01T00:00:00",
          "2021-03-01T00:00:00",
          "2021-04-01T00:00:00",
          "2021-05-01T00:00:00",
          "2021-06-01T00:00:00",
          "2021-07-01T00:00:00",
          "2021-08-01T00:00:00",
          "2021-09-01T00:00:00",
          "2021-10-01T00:00:00",
          "2021-11-01T00:00:00",
          "2021-12-01T00:00:00",
          "2022-01-01T00:00:00",
          "2022-02-01T00:00:00",
          "2022-03-01T00:00:00",
          "2022-04-01T00:00:00",
          "2022-05-01T00:00:00",
          "2022-06-01T00:00:00",
          "2022-07-01T00:00:00",
          "2022-08-01T00:00:00",
          "2022-09-01T00:00:00",
          "2022-10-01T00:00:00",
          "2022-11-01T00:00:00",
          "2022-12-01T00:00:00",
          "2023-01-01T00:00:00",
          "2023-02-01T00:00:00",
          "2023-03-01T00:00:00",
          "2023-04-01T00:00:00",
          "2023-05-01T00:00:00",
          "2023-06-01T00:00:00",
          "2023-07-01T00:00:00",
          "2023-08-01T00:00:00",
          "2023-09-01T00:00:00",
          "2023-10-01T00:00:00",
          "2023-11-01T00:00:00",
          "2023-12-01T00:00:00"
         ],
         "y": [
          12389,
          12065,
          13276,
          12769,
          13060,
          12153,
          12816,
          13098,
          12540,
          13145,
          13807,
          13059,
          11800,
          10614,
          13037,
          11659,
          11779,
          11523,
          11463,
          11891,
          11631,
          12928,
          13359,
          12245,
          11450,
          10912,
          12538,
          10177,
          11263,
          10037,
          10032,
          11156,
          11162,
          11542,
          12507,
          13328,
          12952,
          12074,
          13498,
          12317,
          12388,
          11374,
          11678,
          11927,
          11927,
          12399,
          12631,
          12095,
          12007,
          11287,
          7690,
          2847,
          4300,
          4812,
          5197,
          5881,
          6330,
          7345,
          8423,
          8676,
          9108,
          8537,
          9883,
          8058,
          7234,
          8088,
          8822,
          9202,
          9309,
          9986,
          10416,
          10638,
          9714,
          9782,
          11804,
          11223,
          11013,
          10538,
          11567,
          11954,
          12074,
          12919,
          12739,
          13088,
          11652,
          11045,
          13698,
          12286,
          13036,
          12150,
          13019,
          12872,
          12906,
          12910,
          13210,
          13906
         ]
        }
       ],
       "layout": {
        "autosize": true,
        "font": {
         "color": "#101e37",
         "family": "Open Sans, sans-serif"
        },
        "height": 400,
        "margin": {
         "b": 40,
         "l": 40,
         "pad": 4,
         "r": 20,
         "t": 60
        },
        "paper_bgcolor": "#d1d8e0",
        "plot_bgcolor": "#d1d8e0",
        "template": {
         "data": {
          "candlestick": [
           {
            "decreasing": {
             "line": {
              "color": "#000033"
             }
            },
            "increasing": {
             "line": {
              "color": "#000032"
             }
            },
            "type": "candlestick"
           }
          ],
          "contour": [
           {
            "colorscale": [
             [
              0,
              "#000011"
             ],
             [
              0.1111111111111111,
              "#000012"
             ],
             [
              0.2222222222222222,
              "#000013"
             ],
             [
              0.3333333333333333,
              "#000014"
             ],
             [
              0.4444444444444444,
              "#000015"
             ],
             [
              0.5555555555555556,
              "#000016"
             ],
             [
              0.6666666666666666,
              "#000017"
             ],
             [
              0.7777777777777778,
              "#000018"
             ],
             [
              0.8888888888888888,
              "#000019"
             ],
             [
              1,
              "#000020"
             ]
            ],
            "type": "contour"
           }
          ],
          "contourcarpet": [
           {
            "colorscale": [
             [
              0,
              "#000011"
             ],
             [
              0.1111111111111111,
              "#000012"
             ],
             [
              0.2222222222222222,
              "#000013"
             ],
             [
              0.3333333333333333,
              "#000014"
             ],
             [
              0.4444444444444444,
              "#000015"
             ],
             [
              0.5555555555555556,
              "#000016"
             ],
             [
              0.6666666666666666,
              "#000017"
             ],
             [
              0.7777777777777778,
              "#000018"
             ],
             [
              0.8888888888888888,
              "#000019"
             ],
             [
              1,
              "#000020"
             ]
            ],
            "type": "contourcarpet"
           }
          ],
          "heatmap": [
           {
            "colorscale": [
             [
              0,
              "#000011"
             ],
             [
              0.1111111111111111,
              "#000012"
             ],
             [
              0.2222222222222222,
              "#000013"
             ],
             [
              0.3333333333333333,
              "#000014"
             ],
             [
              0.4444444444444444,
              "#000015"
             ],
             [
              0.5555555555555556,
              "#000016"
             ],
             [
              0.6666666666666666,
              "#000017"
             ],
             [
              0.7777777777777778,
              "#000018"
             ],
             [
              0.8888888888888888,
              "#000019"
             ],
             [
              1,
              "#000020"
             ]
            ],
            "type": "heatmap"
           }
          ],
          "histogram2d": [
           {
            "colorscale": [
             [
              0,
              "#000011"
             ],
             [
              0.1111111111111111,
              "#000012"
             ],
             [
              0.2222222222222222,
              "#000013"
             ],
             [
              0.3333333333333333,
              "#000014"
             ],
             [
              0.4444444444444444,
              "#000015"
             ],
             [
              0.5555555555555556,
              "#000016"
             ],
             [
              0.6666666666666666,
              "#000017"
             ],
             [
              0.7777777777777778,
              "#000018"
             ],
             [
              0.8888888888888888,
              "#000019"
             ],
             [
              1,
              "#000020"
             ]
            ],
            "type": "histogram2d"
           }
          ],
          "icicle": [
           {
            "textfont": {
             "color": "white"
            },
            "type": "icicle"
           }
          ],
          "sankey": [
           {
            "textfont": {
             "color": "#000036"
            },
            "type": "sankey"
           }
          ],
          "scatter": [
           {
            "marker": {
             "line": {
              "width": 0
             }
            },
            "type": "scatter"
           }
          ],
          "table": [
           {
            "cells": {
             "fill": {
              "color": "#000038"
             },
             "font": {
              "color": "#000037"
             },
             "line": {
              "color": "#000039"
             }
            },
            "header": {
             "fill": {
              "color": "#000040"
             },
             "font": {
              "color": "#000036"
             },
             "line": {
              "color": "#000039"
             }
            },
            "type": "table"
           }
          ],
          "waterfall": [
           {
            "connector": {
             "line": {
              "color": "#000036",
              "width": 2
             }
            },
            "decreasing": {
             "marker": {
              "color": "#000033"
             }
            },
            "increasing": {
             "marker": {
              "color": "#000032"
             }
            },
            "totals": {
             "marker": {
              "color": "#000034"
             }
            },
            "type": "waterfall"
           }
          ]
         },
         "layout": {
          "coloraxis": {
           "colorscale": [
            [
             0,
             "#000011"
            ],
            [
             0.1111111111111111,
             "#000012"
            ],
            [
             0.2222222222222222,
             "#000013"
            ],
            [
             0.3333333333333333,
             "#000014"
            ],
            [
             0.4444444444444444,
             "#000015"
            ],
            [
             0.5555555555555556,
             "#000016"
            ],
            [
             0.6666666666666666,
             "#000017"
            ],
            [
             0.7777777777777778,
             "#000018"
            ],
            [
             0.8888888888888888,
             "#000019"
            ],
            [
             1,
             "#000020"
            ]
           ]
          },
          "colorscale": {
           "diverging": [
            [
             0,
             "#000021"
            ],
            [
             0.1,
             "#000022"
            ],
            [
             0.2,
             "#000023"
            ],
            [
             0.3,
             "#000024"
            ],
            [
             0.4,
             "#000025"
            ],
            [
             0.5,
             "#000026"
            ],
            [
             0.6,
             "#000027"
            ],
            [
             0.7,
             "#000028"
            ],
            [
             0.8,
             "#000029"
            ],
            [
             0.9,
             "#000030"
            ],
            [
             1,
             "#000031"
            ]
           ],
           "sequential": [
            [
             0,
             "#000011"
            ],
            [
             0.1111111111111111,
             "#000012"
            ],
            [
             0.2222222222222222,
             "#000013"
            ],
            [
             0.3333333333333333,
             "#000014"
            ],
            [
             0.4444444444444444,
             "#000015"
            ],
            [
             0.5555555555555556,
             "#000016"
            ],
            [
             0.6666666666666666,
             "#000017"
            ],
            [
             0.7777777777777778,
             "#000018"
            ],
            [
             0.8888888888888888,
             "#000019"
            ],
            [
             1,
             "#000020"
            ]
           ],
           "sequentialminus": [
            [
             0,
             "#000011"
            ],
            [
             0.1111111111111111,
             "#000012"
            ],
            [
             0.2222222222222222,
             "#000013"
            ],
            [
             0.3333333333333333,
             "#000014"
            ],
            [
             0.4444444444444444,
             "#000015"
            ],
            [
             0.5555555555555556,
             "#000016"
            ],
            [
             0.6666666666666666,
             "#000017"
            ],
            [
             0.7777777777777778,
             "#000018"
            ],
            [
             0.8888888888888888,
             "#000019"
            ],
            [
             1,
             "#000020"
            ]
           ]
          },
          "colorway": [
           "#000001",
           "#000002",
           "#000003",
           "#000004",
           "#000005",
           "#000006",
           "#000007",
           "#000008",
           "#000009",
           "#000010"
          ]
         }
        },
        "title": {
         "font": {
          "color": "#101e37",
          "family": "Open Sans, sans-serif",
          "size": 18
         },
         "text": "Evolución mensual de contactos"
        },
        "xaxis": {
         "gridcolor": "rgba(0,0,0,0.1)",
         "tickfont": {
          "color": "#101e37"
         },
         "tickformat": "%Y-%m",
         "title": {
          "font": {
           "color": "#101e37"
          },
          "text": "Periodo"
         }
        },
        "yaxis": {
         "gridcolor": "rgba(0,0,0,0.1)",
         "tickfont": {
          "color": "#101e37"
         },
         "title": {
          "font": {
           "color": "#101e37"
          },
          "text": "Cantidad de contactos"
         }
        }
       }
      }
     },
     "metadata": {},
     "output_type": "display_data"
    }
   ],
   "source": [
    "# Asumo que ya tenés df_grouped con columnas 'PERIODO' y 'CONTACTO_ID'\n",
    "# Y que PERIODO ya está convertido con .dt.to_timestamp()\n",
    "\n",
    "fig_line = go.Figure()\n",
    "\n",
    "fig_line.add_trace(go.Scatter(\n",
    "    x=df_grouped['PERIODO'],\n",
    "    y=df_grouped['CONTACTO_ID'],\n",
    "    mode='lines+markers',\n",
    "    name='Cantidad de contactos',\n",
    "    line=dict(color='#336acc', width=3),  # primaryColor\n",
    "    marker=dict(color='#336acc', size=6),\n",
    "    hovertemplate='%{x|%Y-%m} <br>Cantidad: %{y}<extra></extra>'\n",
    "))\n",
    "\n",
    "fig_line.update_layout(\n",
    "    title=dict(\n",
    "        text=\"Evolución mensual de contactos\",\n",
    "        font=dict(size=18, color=\"#101e37\", family=\"Open Sans, sans-serif\")\n",
    "    ),\n",
    "    xaxis=dict(\n",
    "        title=\"Periodo\",\n",
    "        tickformat=\"%Y-%m\",\n",
    "        titlefont=dict(color=\"#101e37\"),\n",
    "        tickfont=dict(color=\"#101e37\"),\n",
    "        gridcolor='rgba(0,0,0,0.1)'\n",
    "    ),\n",
    "    yaxis=dict(\n",
    "        title=\"Cantidad de contactos\",\n",
    "        titlefont=dict(color=\"#101e37\"),\n",
    "        tickfont=dict(color=\"#101e37\"),\n",
    "        gridcolor='rgba(0,0,0,0.1)'\n",
    "    ),\n",
    "    plot_bgcolor=\"#d1d8e0\",  # secondaryBackgroundColor\n",
    "    paper_bgcolor=\"#d1d8e0\",\n",
    "    font=dict(color=\"#101e37\", family=\"Open Sans, sans-serif\"),\n",
    "    autosize=True,\n",
    "    height=400,\n",
    "    margin=dict(l=40, r=20, b=40, t=60, pad=4)\n",
    ")\n"
   ]
  }
 ],
 "metadata": {
  "kernelspec": {
   "display_name": "BSAS",
   "language": "python",
   "name": "python3"
  },
  "language_info": {
   "codemirror_mode": {
    "name": "ipython",
    "version": 3
   },
   "file_extension": ".py",
   "mimetype": "text/x-python",
   "name": "python",
   "nbconvert_exporter": "python",
   "pygments_lexer": "ipython3",
   "version": "3.11.10"
  }
 },
 "nbformat": 4,
 "nbformat_minor": 5
}
