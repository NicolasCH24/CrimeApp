{
 "cells": [
  {
   "cell_type": "markdown",
   "metadata": {},
   "source": [
    "## **TABLA DE MODELADO**"
   ]
  },
  {
   "cell_type": "code",
   "execution_count": 15,
   "metadata": {},
   "outputs": [],
   "source": [
    "# DATOS\n",
    "import pandas as pd\n",
    "\n",
    "# BASE DE DATOS\n",
    "from sqlalchemy import create_engine\n",
    "\n",
    "# MODELADO\n",
    "from joblib import load"
   ]
  },
  {
   "cell_type": "markdown",
   "metadata": {},
   "source": [
    "**MODELOS**"
   ]
  },
  {
   "cell_type": "code",
   "execution_count": 16,
   "metadata": {},
   "outputs": [],
   "source": [
    "# KMEANS\n",
    "kmeans = load('C:/Users/20391117579/Dropbox/CrimeApp/Data Science Lab/Modelos/kmeans.joblib')\n",
    "scaler = load('C:/Users/20391117579/Dropbox/CrimeApp/Data Science Lab/Modelos/scaler.joblib')"
   ]
  },
  {
   "cell_type": "markdown",
   "metadata": {},
   "source": [
    "**TABLA FILTRADA DE SQL**"
   ]
  },
  {
   "cell_type": "code",
   "execution_count": 2,
   "metadata": {},
   "outputs": [],
   "source": [
    "hostname = \"localhost\"\n",
    "dbname = \"crimewarehouse\"\n",
    "uname = \"root\"\n",
    "pwd = \"admin1234\"\n",
    "\n",
    "engine = create_engine(\"mysql+pymysql://{user}:{pw}@{host}/{db}\"\n",
    "\t\t\t\t.format(host=hostname, db=dbname, user=uname, pw=pwd))"
   ]
  },
  {
   "cell_type": "code",
   "execution_count": 4,
   "metadata": {},
   "outputs": [],
   "source": [
    "def get_fct_table(query, db):\n",
    "    df_fct = pd.read_sql(query, db)\n",
    "\n",
    "    return df_fct\n",
    "\n",
    "df_fct = get_fct_table(query=\"SELECT * FROM FCT_HECHOS;\", db=engine)"
   ]
  },
  {
   "cell_type": "code",
   "execution_count": 5,
   "metadata": {},
   "outputs": [
    {
     "data": {
      "text/html": [
       "<div>\n",
       "<style scoped>\n",
       "    .dataframe tbody tr th:only-of-type {\n",
       "        vertical-align: middle;\n",
       "    }\n",
       "\n",
       "    .dataframe tbody tr th {\n",
       "        vertical-align: top;\n",
       "    }\n",
       "\n",
       "    .dataframe thead th {\n",
       "        text-align: right;\n",
       "    }\n",
       "</style>\n",
       "<table border=\"1\" class=\"dataframe\">\n",
       "  <thead>\n",
       "    <tr style=\"text-align: right;\">\n",
       "      <th></th>\n",
       "      <th>CONTACTO_ID</th>\n",
       "      <th>FECHA</th>\n",
       "      <th>FRANJA_HORARIA</th>\n",
       "      <th>TIPO_DELITO_KEY</th>\n",
       "      <th>LATITUD</th>\n",
       "      <th>LONGITUD</th>\n",
       "      <th>COMUNA_KEY</th>\n",
       "      <th>BARRIO_KEY</th>\n",
       "    </tr>\n",
       "  </thead>\n",
       "  <tbody>\n",
       "    <tr>\n",
       "      <th>0</th>\n",
       "      <td>0</td>\n",
       "      <td>2016-01-31</td>\n",
       "      <td>12</td>\n",
       "      <td>1</td>\n",
       "      <td>-34.6398</td>\n",
       "      <td>-58.5297</td>\n",
       "      <td>9</td>\n",
       "      <td>22</td>\n",
       "    </tr>\n",
       "    <tr>\n",
       "      <th>1</th>\n",
       "      <td>1</td>\n",
       "      <td>2016-01-31</td>\n",
       "      <td>8</td>\n",
       "      <td>1</td>\n",
       "      <td>-34.6388</td>\n",
       "      <td>-58.5275</td>\n",
       "      <td>9</td>\n",
       "      <td>22</td>\n",
       "    </tr>\n",
       "    <tr>\n",
       "      <th>2</th>\n",
       "      <td>2</td>\n",
       "      <td>2016-01-31</td>\n",
       "      <td>20</td>\n",
       "      <td>1</td>\n",
       "      <td>-34.6456</td>\n",
       "      <td>-58.5265</td>\n",
       "      <td>9</td>\n",
       "      <td>22</td>\n",
       "    </tr>\n",
       "    <tr>\n",
       "      <th>3</th>\n",
       "      <td>3</td>\n",
       "      <td>2016-01-31</td>\n",
       "      <td>22</td>\n",
       "      <td>1</td>\n",
       "      <td>-34.6013</td>\n",
       "      <td>-58.5199</td>\n",
       "      <td>11</td>\n",
       "      <td>31</td>\n",
       "    </tr>\n",
       "    <tr>\n",
       "      <th>4</th>\n",
       "      <td>4</td>\n",
       "      <td>2016-01-31</td>\n",
       "      <td>8</td>\n",
       "      <td>1</td>\n",
       "      <td>-34.5896</td>\n",
       "      <td>-58.5187</td>\n",
       "      <td>11</td>\n",
       "      <td>31</td>\n",
       "    </tr>\n",
       "  </tbody>\n",
       "</table>\n",
       "</div>"
      ],
      "text/plain": [
       "   CONTACTO_ID       FECHA  FRANJA_HORARIA  TIPO_DELITO_KEY  LATITUD  \\\n",
       "0            0  2016-01-31              12                1 -34.6398   \n",
       "1            1  2016-01-31               8                1 -34.6388   \n",
       "2            2  2016-01-31              20                1 -34.6456   \n",
       "3            3  2016-01-31              22                1 -34.6013   \n",
       "4            4  2016-01-31               8                1 -34.5896   \n",
       "\n",
       "   LONGITUD  COMUNA_KEY  BARRIO_KEY  \n",
       "0  -58.5297           9          22  \n",
       "1  -58.5275           9          22  \n",
       "2  -58.5265           9          22  \n",
       "3  -58.5199          11          31  \n",
       "4  -58.5187          11          31  "
      ]
     },
     "execution_count": 5,
     "metadata": {},
     "output_type": "execute_result"
    }
   ],
   "source": [
    "df_fct.head(5)"
   ]
  },
  {
   "cell_type": "markdown",
   "metadata": {},
   "source": [
    "**TABLA DE MODELADO**"
   ]
  },
  {
   "cell_type": "code",
   "execution_count": 12,
   "metadata": {},
   "outputs": [],
   "source": [
    "def transform_time_series(df_fct):\n",
    "    # Serie temporal\n",
    "    df_fct['FECHA'] = pd.to_datetime(df_fct['FECHA'])\n",
    "    df_fct['MES'] = df_fct['FECHA'].dt.month \n",
    "    df_fct['DIADELMES'] = df_fct['FECHA'].dt.day  \n",
    "    df_fct['DIADELAÑO'] = df_fct['FECHA'].dt.day_of_year\n",
    "    df_fct['SEMANADELAÑO'] = df_fct['FECHA'].dt.isocalendar().week.astype(int)\n",
    "    df_fct['TRIMESTRE'] = df_fct['FECHA'].dt.quarter  \n",
    "    df_fct['DIADELASEMANA'] = df_fct['FECHA'].dt.dayofweek \n",
    "\n",
    "    # Estacion, Fin de semana\n",
    "    df_fct['ESFINDESEMANA'] = df_fct['DIADELASEMANA'].apply(lambda x: 1 if x in [5, 6] else 0)\n",
    "    df_fct['ESTACION'] = df_fct['MES'].apply(lambda x: 4 if x in [12, 1, 2] else (1 if x in [3, 4, 5] else (2 if x in [6, 7, 8] else 3)))\n",
    "\n",
    "    # Horario Categorizado\n",
    "    bins = [0, 6, 12, 18, 24]\n",
    "    labels = [1, 2, 3, 4]\n",
    "    df_fct['HORARIO_CATEGORIZADO'] = pd.cut(df_fct['FRANJA_HORARIA'], bins=bins, labels=labels, right=False).astype(int)\n",
    "\n",
    "    df_fct_time_series = df_fct[['FECHA', 'LATITUD', 'LONGITUD', 'ESTACION', 'MES', 'TRIMESTRE',\n",
    "                                'SEMANADELAÑO', 'DIADELAÑO', 'DIADELMES', 'DIADELASEMANA',\n",
    "                                'ESFINDESEMANA', 'HORARIO_CATEGORIZADO', 'FRANJA_HORARIA']]\n",
    "\n",
    "    return df_fct_time_series"
   ]
  },
  {
   "cell_type": "code",
   "execution_count": 13,
   "metadata": {},
   "outputs": [],
   "source": [
    "df_fct_time_series = transform_time_series(df_fct)"
   ]
  }
 ],
 "metadata": {
  "kernelspec": {
   "display_name": "BSAS",
   "language": "python",
   "name": "python3"
  },
  "language_info": {
   "codemirror_mode": {
    "name": "ipython",
    "version": 3
   },
   "file_extension": ".py",
   "mimetype": "text/x-python",
   "name": "python",
   "nbconvert_exporter": "python",
   "pygments_lexer": "ipython3",
   "version": "3.11.10"
  }
 },
 "nbformat": 4,
 "nbformat_minor": 2
}
